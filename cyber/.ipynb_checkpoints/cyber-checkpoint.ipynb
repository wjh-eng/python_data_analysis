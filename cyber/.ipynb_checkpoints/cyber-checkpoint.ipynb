{
 "cells": [
  {
   "cell_type": "code",
   "execution_count": 1,
   "id": "7c9b49c1",
   "metadata": {},
   "outputs": [],
   "source": [
    "import pandas as pd\n",
    "import numpy as np\n",
    "import seaborn as sns\n",
    "from pyecharts.charts import Pie\n",
    "from pyecharts import options as opts\n",
    "import matplotlib.pyplot as plt\n",
    "%matplotlib inline\n",
    "sns.set_style('white',{'font.sans-serif':['simhei','Arial']})\n",
    "pd.set_option(\"display.max_column\", None)\n",
    "pd.set_option(\"display.max_row\",None)"
   ]
  },
  {
   "cell_type": "code",
   "execution_count": null,
   "id": "d4425d6c",
   "metadata": {},
   "outputs": [],
   "source": [
    "path = \"./lagou.csv\"\n",
    "df = pd.read_csv(path)"
   ]
  },
  {
   "cell_type": "code",
   "execution_count": null,
   "id": "b39dafcc",
   "metadata": {},
   "outputs": [],
   "source": [
    "df.columns"
   ]
  },
  {
   "cell_type": "code",
   "execution_count": null,
   "id": "ecb5878a",
   "metadata": {},
   "outputs": [],
   "source": [
    "columns = [\"positionName\", \"companyShortName\", \"city\", \"companySize\", \"education\", \"financeStage\",\n",
    "           \"industryField\", \"salary\", \"workYear\", \"hitags\", \"companyLabelList\", \"job_detail\"]\n",
    "df = df[columns].drop_duplicates()"
   ]
  },
  {
   "cell_type": "code",
   "execution_count": null,
   "id": "89c4af43",
   "metadata": {
    "scrolled": true
   },
   "outputs": [],
   "source": [
    "# 原始数据长度\n",
    "len(df)"
   ]
  },
  {
   "cell_type": "code",
   "execution_count": null,
   "id": "7887c3e3",
   "metadata": {},
   "outputs": [],
   "source": [
    "# 数据分析相应的岗位数量\n",
    "cond_1 = df[\"positionName\"].str.contains(\"数据分析\")  # 职位名中含有数据分析字眼的\n",
    "cond_2 = ~df[\"positionName\"].str.contains(\"实习\")  # 剔除掉带实习字眼的\n",
    "len(df[cond_1 & cond_2][\"positionName\"])"
   ]
  },
  {
   "cell_type": "code",
   "execution_count": null,
   "id": "678d84ba",
   "metadata": {},
   "outputs": [],
   "source": [
    "df = df[cond_1 & cond_2]\n",
    "df.drop([\"positionName\"], axis=1, inplace=True)\n",
    "df.reset_index(drop=True, inplace=True)"
   ]
  },
  {
   "cell_type": "code",
   "execution_count": null,
   "id": "fea7a1b9",
   "metadata": {},
   "outputs": [],
   "source": [
    "df[\"salary\"] = df[\"salary\"].str.lower()\\\n",
    "               .str.extract(r'(\\d+)[k]-(\\d+)k')\\\n",
    "               .applymap(lambda x:int(x))\\\n",
    "               .mean(axis=1)"
   ]
  },
  {
   "cell_type": "code",
   "execution_count": null,
   "id": "c0ec643a",
   "metadata": {},
   "outputs": [],
   "source": [
    "df[\"job_detail\"] = df[\"job_detail\"].str.lower().fillna(\"\")  #将字符串小写化，并将缺失值赋值为空字符串\n",
    "\n",
    "df[\"Python/R\"] = df[\"job_detail\"].map(lambda x:1 if ('python' in x) or ('r' in x) else 0)\n",
    "df[\"SQL\"] = df[\"job_detail\"].map(lambda x:1 if ('sql' in x) or ('hive' in x)  else 0)\n",
    "df[\"Tableau\"] = df[\"job_detail\"].map(lambda x:1 if 'tableau' in x  else 0)\n",
    "df[\"Excel\"] = df[\"job_detail\"].map(lambda x:1 if 'excel' in x  else 0)"
   ]
  },
  {
   "cell_type": "code",
   "execution_count": null,
   "id": "0d46c9bb",
   "metadata": {},
   "outputs": [],
   "source": [
    "df.head(1)"
   ]
  },
  {
   "cell_type": "code",
   "execution_count": null,
   "id": "d21257b1",
   "metadata": {},
   "outputs": [],
   "source": [
    "def clean_industry(industry):\n",
    "    industry = industry.split(\",\")\n",
    "    if industry[0]==\"移动互联网\" and len(industry)>1:\n",
    "        return industry[1]\n",
    "    else:\n",
    "        return industry[0]\n",
    "\n",
    "df[\"industryField\"] = df.industryField.map(clean_industry)"
   ]
  },
  {
   "cell_type": "code",
   "execution_count": null,
   "id": "17072ef4",
   "metadata": {},
   "outputs": [],
   "source": [
    "fig, ax = plt.subplots(figsize=(12,8))\n",
    "sns.countplot(y=\"city\",order= df[\"city\"].value_counts().index,data=df,color='#3c7f99')\n",
    "plt.box(False)\n",
    "fig.text(x=0.04, y=0.90, s='           各城市数据分析岗位的需求量           ', \n",
    "         fontsize=32, weight='bold', color='white', backgroundcolor='#c5b783')\n",
    "plt.tick_params(axis='both', which='major', labelsize=16)\n",
    "ax.xaxis.grid(which='both', linewidth=0.5, color='#3c7f99')\n",
    "plt.xlabel('')\n",
    "plt.ylabel('')"
   ]
  },
  {
   "cell_type": "code",
   "execution_count": null,
   "id": "d99c0ad3",
   "metadata": {},
   "outputs": [],
   "source": [
    "industry_index = df[\"industryField\"].value_counts()[:10].index\n",
    "industry =df.loc[df[\"industryField\"].isin(industry_index),\"industryField\"]"
   ]
  },
  {
   "cell_type": "code",
   "execution_count": null,
   "id": "c327eba2",
   "metadata": {},
   "outputs": [],
   "source": [
    "fig, ax = plt.subplots(figsize=(12,8))\n",
    "sns.countplot(y=industry.values,order = industry_index,color='#3c7f99')\n",
    "plt.box(False)\n",
    "fig.text(x=0, y=0.90, s='         细分领域数据分析岗位的需求量（取前十）     ', \n",
    "         fontsize=32, weight='bold', color='white', backgroundcolor='#c5b783')\n",
    "plt.tick_params(axis='both', which='major', labelsize=16)\n",
    "ax.xaxis.grid(which='both', linewidth=0.5, color='#3c7f99')\n",
    "plt.xlabel('')\n",
    "plt.ylabel('')"
   ]
  },
  {
   "cell_type": "code",
   "execution_count": null,
   "id": "22bbf3d9",
   "metadata": {},
   "outputs": [],
   "source": [
    "fig,ax = plt.subplots(figsize=(12,8))\n",
    "city_order = df.groupby(\"city\")[\"salary\"].mean()\\\n",
    "               .sort_values()\\\n",
    "               .index.tolist()\n",
    "sns.barplot(x=\"city\", y=\"salary\", order=city_order, data=df, errorbar=('ci', 95),palette=\"RdBu_r\")\n",
    "fig.text(x=0.04, y=0.90, s='              各城市的薪资水平对比              ', \n",
    "         fontsize=32, weight='bold', color='white', backgroundcolor='#3c7f99')\n",
    "plt.tick_params(axis=\"both\",labelsize=16,)\n",
    "ax.yaxis.grid(which='both', linewidth=0.5, color='black')\n",
    "ax.set_yticks([0,5,10,15,20])\n",
    "ax.set_yticklabels([\" \",\"5k\",\"10k\",\"15k\",\"20k\"])\n",
    "plt.box(False)\n",
    "plt.xlabel('')\n",
    "plt.ylabel('')"
   ]
  },
  {
   "cell_type": "code",
   "execution_count": null,
   "id": "1893f853",
   "metadata": {},
   "outputs": [],
   "source": [
    "fig,ax = plt.subplots(figsize=(12,8))\n",
    "fig.text(x=0.04, y=0.90, s='           一线城市的薪资分布对比             ', \n",
    "         fontsize=32, weight='bold', color='white', backgroundcolor='#c5b783')\n",
    "sns.kdeplot(df[df[\"city\"]=='北京'][\"salary\"],fill=True,label=\"北京\")\n",
    "sns.kdeplot(df[df[\"city\"]=='上海'][\"salary\"],fill=True,label=\"上海\")\n",
    "sns.kdeplot(df[df[\"city\"]=='广州'][\"salary\"],fill=True,label=\"广州\")\n",
    "sns.kdeplot(df[df[\"city\"]=='深圳'][\"salary\"],fill=True,label=\"深圳\")\n",
    "plt.tick_params(axis='both', which='major', labelsize=16)\n",
    "plt.box(False)\n",
    "plt.xticks(np.arange(0,61,10), [str(i)+\"k\" for i in range(0,61,10)])\n",
    "plt.yticks([])\n",
    "plt.legend(fontsize = 'xx-large',fancybox=None)"
   ]
  }
 ],
 "metadata": {
  "kernelspec": {
   "display_name": "Python [conda env:root] *",
   "language": "python",
   "name": "conda-root-py"
  },
  "language_info": {
   "codemirror_mode": {
    "name": "ipython",
    "version": 3
   },
   "file_extension": ".py",
   "mimetype": "text/x-python",
   "name": "python",
   "nbconvert_exporter": "python",
   "pygments_lexer": "ipython3",
   "version": "3.9.12"
  }
 },
 "nbformat": 4,
 "nbformat_minor": 5
}
